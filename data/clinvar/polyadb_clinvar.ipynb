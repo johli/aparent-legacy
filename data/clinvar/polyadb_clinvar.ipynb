{
 "cells": [
  {
   "cell_type": "code",
   "execution_count": 1,
   "metadata": {
    "collapsed": true
   },
   "outputs": [],
   "source": [
    "import pandas as pd\n",
    "import xml.etree.ElementTree as et\n",
    "\n",
    "import numpy as np\n",
    "import scipy.sparse as sp\n",
    "import scipy.io as spio\n"
   ]
  },
  {
   "cell_type": "code",
   "execution_count": 2,
   "metadata": {
    "collapsed": true
   },
   "outputs": [],
   "source": [
    "\n",
    "polyadb_site_file = 'polyAsite.db2'\n",
    "polyadb_gene_file = 'gene.db2'\n",
    "polyadb_pas_file = 'PAS.db2'\n",
    "\n",
    "polyadb_site_df = pd.read_csv(polyadb_site_file, sep='\\t', delimiter=None)\n",
    "polyadb_gene_df = pd.read_csv(polyadb_gene_file, sep='\\t', delimiter=None)\n",
    "polyadb_pas_df = pd.read_csv(polyadb_pas_file, sep='\\t', delimiter=None)\n"
   ]
  },
  {
   "cell_type": "code",
   "execution_count": 3,
   "metadata": {
    "collapsed": false
   },
   "outputs": [
    {
     "name": "stdout",
     "output_type": "stream",
     "text": [
      "         siteid   llid  chr  sitenum   position  supporting EST  cleavage\n",
      "0      Dr.1.1.2  30686   24        2    6919195               1         1\n",
      "1  Dr.10005.1.1      0   Un        1   11820591               6         2\n",
      "2   Dr.1002.1.1      0   Un        1  143246768               3         2\n",
      "3  Dr.10024.1.1      0  NaN        1  384763971               3         1\n",
      "4   Dr.1003.1.1      0   Un        1  113763249               1         1\n",
      "     llid chr  str     symbol                                   name  \\\n",
      "0    1018  17    1       CDK3              cyclin-dependent kinase 3   \n",
      "1  115098  19    1  LOC115098          hypothetical protein BC013949   \n",
      "2  140901  20    1      STK35             serine/threonine kinase 35   \n",
      "3   10570  10    1     DPYSL4             dihydropyrimidinase-like 4   \n",
      "4   57165   1    1      GJA12  gap junction protein, alpha 12, 47kDa   \n",
      "\n",
      "  unigene id organism     chr_fr     chr_to  \n",
      "0  Hs.100009       Hs   71486896   71513675  \n",
      "1  Hs.100043       Hs   17904827   17915800  \n",
      "2  Hs.100057       Hs    2031168    2105684  \n",
      "3  Hs.100058       Hs  133850394  133869270  \n",
      "4  Hs.100072       Hs  224644150  224654262  \n",
      "           siteid pas type  position\n",
      "0  Hs.100009.1.10   AATAAA       -26\n",
      "1  Hs.100009.1.21   AATAAA       -25\n",
      "2  Hs.100043.1.10   AATAAA       -23\n",
      "3  Hs.100057.1.14   AATAAA       -25\n",
      "4  Hs.100057.1.15   ATTAAA       -20\n"
     ]
    }
   ],
   "source": [
    "print(polyadb_site_df.head())\n",
    "print(polyadb_gene_df.head())\n",
    "print(polyadb_pas_df.head())"
   ]
  },
  {
   "cell_type": "code",
   "execution_count": 7,
   "metadata": {
    "collapsed": false
   },
   "outputs": [
    {
     "name": "stdout",
     "output_type": "stream",
     "text": [
      "Warning! Dup gene ID (unigene id) = Hs.108106\n",
      "Warning! Dup gene ID (unigene id) = Hs.124112\n",
      "Warning! Dup gene ID (unigene id) = Hs.126838\n",
      "Warning! Dup gene ID (unigene id) = Hs.137367\n",
      "Warning! Dup gene ID (unigene id) = Hs.158343\n",
      "Warning! Dup gene ID (unigene id) = Hs.159281\n",
      "Warning! Dup gene ID (unigene id) = Hs.166204\n",
      "Warning! Dup gene ID (unigene id) = Hs.180346\n",
      "Warning! Dup gene ID (unigene id) = Hs.187134\n",
      "Warning! Dup gene ID (unigene id) = Hs.211571\n",
      "Warning! Dup gene ID (unigene id) = Hs.226307\n",
      "Warning! Dup gene ID (unigene id) = Hs.260903\n",
      "Warning! Dup gene ID (unigene id) = Hs.269775\n",
      "Warning! Dup gene ID (unigene id) = Hs.2717\n",
      "Warning! Dup gene ID (unigene id) = Hs.287505\n",
      "Warning! Dup gene ID (unigene id) = Hs.296169\n",
      "Warning! Dup gene ID (unigene id) = Hs.298252\n",
      "Warning! Dup gene ID (unigene id) = Hs.306327\n",
      "Warning! Dup gene ID (unigene id) = Hs.309288\n",
      "Warning! Dup gene ID (unigene id) = Hs.3459\n",
      "Warning! Dup gene ID (unigene id) = Hs.348553\n",
      "Warning! Dup gene ID (unigene id) = Hs.352298\n",
      "Warning! Dup gene ID (unigene id) = Hs.368304\n",
      "Warning! Dup gene ID (unigene id) = Hs.368913\n",
      "Warning! Dup gene ID (unigene id) = Hs.369762\n",
      "Warning! Dup gene ID (unigene id) = Hs.374856\n",
      "Warning! Dup gene ID (unigene id) = Hs.375441\n",
      "Warning! Dup gene ID (unigene id) = Hs.380450\n",
      "Warning! Dup gene ID (unigene id) = Hs.380450\n",
      "Warning! Dup gene ID (unigene id) = Hs.380450\n",
      "Warning! Dup gene ID (unigene id) = Hs.408316\n",
      "Warning! Dup gene ID (unigene id) = Hs.420229\n",
      "Warning! Dup gene ID (unigene id) = Hs.425383\n",
      "Warning! Dup gene ID (unigene id) = Hs.432898\n",
      "Warning! Dup gene ID (unigene id) = Hs.434367\n",
      "Warning! Dup gene ID (unigene id) = Hs.434541\n",
      "Warning! Dup gene ID (unigene id) = Hs.438219\n",
      "Warning! Dup gene ID (unigene id) = Hs.446688\n",
      "Warning! Dup gene ID (unigene id) = Hs.448418\n",
      "Warning! Dup gene ID (unigene id) = Hs.451913\n",
      "Warning! Dup gene ID (unigene id) = Hs.460933\n",
      "Warning! Dup gene ID (unigene id) = Hs.460933\n",
      "Warning! Dup gene ID (unigene id) = Hs.474982\n",
      "Warning! Dup gene ID (unigene id) = Hs.483329\n",
      "Warning! Dup gene ID (unigene id) = Hs.488624\n",
      "Warning! Dup gene ID (unigene id) = Hs.501578\n",
      "Warning! Dup gene ID (unigene id) = Hs.503490\n",
      "Warning! Dup gene ID (unigene id) = Hs.513807\n",
      "Warning! Dup gene ID (unigene id) = Hs.521075\n",
      "Warning! Dup gene ID (unigene id) = Hs.522178\n",
      "Warning! Dup gene ID (unigene id) = Hs.522650\n",
      "Warning! Dup gene ID (unigene id) = Hs.523961\n",
      "Warning! Dup gene ID (unigene id) = Hs.524483\n",
      "Warning! Dup gene ID (unigene id) = Hs.524483\n",
      "Warning! Dup gene ID (unigene id) = Hs.530733\n",
      "Warning! Dup gene ID (unigene id) = Hs.531343\n",
      "Warning! Dup gene ID (unigene id) = Hs.531371\n",
      "Warning! Dup gene ID (unigene id) = Hs.533543\n",
      "Warning! Dup gene ID (unigene id) = Hs.534381\n",
      "Warning! Dup gene ID (unigene id) = Hs.534381\n",
      "Warning! Dup gene ID (unigene id) = Hs.534386\n",
      "Warning! Dup gene ID (unigene id) = Hs.534498\n",
      "Warning! Dup gene ID (unigene id) = Hs.534570\n",
      "Warning! Dup gene ID (unigene id) = Hs.534570\n",
      "Warning! Dup gene ID (unigene id) = Hs.537048\n",
      "Warning! Dup gene ID (unigene id) = Hs.549079\n",
      "Warning! Dup gene ID (unigene id) = Hs.551617\n",
      "Warning! Dup gene ID (unigene id) = Hs.552616\n",
      "Warning! Dup gene ID (unigene id) = Hs.553527\n",
      "Warning! Dup gene ID (unigene id) = Hs.553573\n",
      "Warning! Dup gene ID (unigene id) = Hs.553588\n",
      "Warning! Dup gene ID (unigene id) = Hs.553618\n",
      "Warning! Dup gene ID (unigene id) = Hs.553621\n",
      "Warning! Dup gene ID (unigene id) = Hs.553705\n",
      "Warning! Dup gene ID (unigene id) = Hs.554788\n",
      "Warning! Dup gene ID (unigene id) = Hs.77274\n",
      "Number of dup gene ids = 76\n",
      "Number of genes = 22322\n",
      "Number of sites = 43183\n"
     ]
    }
   ],
   "source": [
    "\n",
    "#Create polyadb data dicts\n",
    "\n",
    "gene_dict = {}\n",
    "\n",
    "num_dup_llid = 0\n",
    "\n",
    "for index, row in polyadb_gene_df.iterrows() :\n",
    "    \n",
    "    if row['organism'] != 'Hs' or 'random' in row['chr'] :\n",
    "        continue\n",
    "    \n",
    "    if str(row['unigene id']) in gene_dict :\n",
    "        print('Warning! Dup gene ID (unigene id) = ' + str(row['unigene id']))\n",
    "        num_dup_llid += 1\n",
    "    \n",
    "    gene_dict[str(row['unigene id'])] = {}\n",
    "    \n",
    "    gene_dict[str(row['unigene id'])]['chr'] = 'chr' + str(row['chr'])\n",
    "    gene_dict[str(row['unigene id'])]['strand'] = '+'\n",
    "    if row['str'] == -1 :\n",
    "        gene_dict[str(row['unigene id'])]['strand'] = '-'\n",
    "    gene_dict[str(row['unigene id'])]['gene'] = row['symbol']\n",
    "    gene_dict[str(row['unigene id'])]['llid'] = row['llid']\n",
    "    \n",
    "    gene_dict[str(row['unigene id'])]['start'] = row['chr_fr']\n",
    "    gene_dict[str(row['unigene id'])]['end'] = row['chr_to']\n",
    "    \n",
    "    \n",
    "print('Number of dup gene ids = ' + str(num_dup_llid))\n",
    "print('Number of genes = ' + str(len(gene_dict)))\n",
    "\n",
    "\n",
    "site_dict = {}\n",
    "\n",
    "for index, row in polyadb_site_df.iterrows() :\n",
    "    \n",
    "    gene_parts = row['siteid'].split('.')\n",
    "    gene = gene_parts[0]\n",
    "    for k in range(1, len(gene_parts) - 2) :\n",
    "        gene += '.' + gene_parts[k]\n",
    "    \n",
    "    if gene not in gene_dict :\n",
    "        continue\n",
    "    \n",
    "    site_dict[str(row['siteid'])] = {}\n",
    "    \n",
    "    site_dict[str(row['siteid'])]['llid'] = str(row['llid'])\n",
    "    site_dict[str(row['siteid'])]['geneid'] = gene\n",
    "    site_dict[str(row['siteid'])]['chr'] = 'chr' + str(row['chr'])\n",
    "    site_dict[str(row['siteid'])]['num_sites'] = row['sitenum']\n",
    "    site_dict[str(row['siteid'])]['position'] = row['position']\n",
    "    site_dict[str(row['siteid'])]['support'] = row['supporting EST']\n",
    "\n",
    "print('Number of sites = ' + str(len(site_dict)))\n"
   ]
  },
  {
   "cell_type": "code",
   "execution_count": null,
   "metadata": {
    "collapsed": false
   },
   "outputs": [],
   "source": [
    "print(gene_dict)"
   ]
  },
  {
   "cell_type": "code",
   "execution_count": null,
   "metadata": {
    "collapsed": false
   },
   "outputs": [],
   "source": [
    "print(site_dict)"
   ]
  },
  {
   "cell_type": "code",
   "execution_count": 13,
   "metadata": {
    "collapsed": false
   },
   "outputs": [
    {
     "name": "stdout",
     "output_type": "stream",
     "text": [
      "     chr      start        end           gene  reads strand\n",
      "0  chr11    1288338    1288638  Hs.547350.1.2     15      +\n",
      "1   chrX   53178406   53178706   Hs.7483.1.11      2      -\n",
      "2  chr13   94166326   94166626  Hs.552626.1.2      1      +\n",
      "3   chrX    8308031    8308331  Hs.521869.1.3      1      -\n",
      "4   chr7  150691602  150691902  Hs.549162.1.9      8      -\n"
     ]
    }
   ],
   "source": [
    "#Create bed file of polyadb sites\n",
    "\n",
    "l_chr = []\n",
    "l_start = []\n",
    "l_end = []\n",
    "l_gene = []\n",
    "l_support = []\n",
    "l_strand = []\n",
    "\n",
    "for siteid in site_dict :\n",
    "    chrom = site_dict[siteid]['chr']\n",
    "    strand = gene_dict[site_dict[siteid]['geneid']]['strand']\n",
    "    \n",
    "    start = site_dict[siteid]['position'] - 175\n",
    "    end = site_dict[siteid]['position'] + 125\n",
    "    if strand == '-' :\n",
    "        start = site_dict[siteid]['position'] - 125\n",
    "        end = site_dict[siteid]['position'] + 175\n",
    "    \n",
    "    support = site_dict[siteid]['support']\n",
    "    \n",
    "    l_chr.append(chrom)\n",
    "    l_start.append(start)\n",
    "    l_end.append(end)\n",
    "    l_gene.append(siteid)\n",
    "    l_support.append(support)\n",
    "    l_strand.append(strand)\n",
    "\n",
    "bed_df = pd.DataFrame({'chr'  : l_chr,\n",
    "                       'start'  : l_start,\n",
    "                       'end'  : l_end,\n",
    "                       'gene'  : l_gene,\n",
    "                       'reads' : l_support,\n",
    "                       'strand'  : l_strand,\n",
    "                })\n",
    "\n",
    "bed_df = bed_df[['chr', 'start', 'end', 'gene', 'reads', 'strand']]\n",
    "\n",
    "print(bed_df.head())\n",
    "\n",
    "output_bed = 'polyadb_sites.bed'\n",
    "bed_columns = ['chr', 'start', 'end', 'gene', 'reads', 'strand']\n",
    "bed_df.to_csv(output_bed, sep='\\t', header=False, columns=bed_columns, index=False)\n"
   ]
  },
  {
   "cell_type": "code",
   "execution_count": 14,
   "metadata": {
    "collapsed": false
   },
   "outputs": [
    {
     "name": "stdout",
     "output_type": "stream",
     "text": [
      "chr11  1288338    1288638    Hs.547350.1.2  15  +\n",
      "chrX   53178406   53178706   Hs.7483.1.11   2   -\n",
      "chr13  94166326   94166626   Hs.552626.1.2  1   +\n",
      "chrX   8308031    8308331    Hs.521869.1.3  1   -\n",
      "chr7   150691602  150691902  Hs.549162.1.9  8   -\n",
      "\n",
      ">Hs.547350.1.2\n",
      "acgagcccaggtagtacagcacgtctcccccgtgatgttttttggcttttatcttacatataaacaagcgtacccaggtggacgccttcctcctcgtgcttttgggaacaccctgctctatggagtagccattcttttattccttcactgccttaataaacttgctttcactttactctgtggactggcctggaattctttcttccacaagatccacgaatcctcttttggggtctggatcaggacccttttccggtaacaCAaccactccactaaaaactctttgtcagtgatctctat\n",
      ">Hs.7483.1.11\n",
      "GTCGTTTGTTCCCTTGCTGTGGCCATTGCTGCCATCTCCTCCACTGCTTGAAGGCCTCACCCCATGCCCTCTGCCACTCCCATAGTGCTCTGTAAATATTATCAGGAGGAAAAGGCCTCTCAGAGTGCGTGTTGCTGTGTACAAAGGAATTTCCATCAATAAAAGCTGATCTCTTCTCTCTGTCTGATGTATATTCCACCCACCCCCACTTCCCTCTTCCAATCCCCACCAGGGCCTTGCCTTCTTTCCTATCCAGGGCTGGGAATAGGGGCCGGGAAAGAGAGTAGGGTTTGATTCGTG\n",
      ">Hs.552626.1.2\n",
      "GTATCTAGTCGGAAACTGAGTGACACTCCCTCAGAAAAAGTTGTGGGCCTGTGTAAATTGAGTTTCCTCTTTTCCCCCTTCAATTCTCCCCAGAAAATAGTCTCTTTTCAATTCTAAAACTTTCACTAGGAGGCAGCAATGAGATTGTTGGGGAATAAAAAATACCTTGGCAACACGACAGGCTGGCTTGCTTGCTTTCTCTTCCACAAGGGAGGGGAGAATTCTTGGGTCCCAATGTGAACAGAATCATTGTCCCCCATCATTTCATCCTCCTCTCTCTCATTGGATTTTCACCTAGGT\n",
      ">Hs.521869.1.3\n",
      "tattGGTGTTATTGGAAGAAAAATGCTATTAATGGGCTAATAAAAAACATGTGTTTCTCTTATGGATTTTAATAAGCTCCAGTATTATTCAAATGATCaaaaatatagttataattttttgaattttaaaaatGTGATTGCTCTAATAAAGAATAAAATCTATGCTTTTTAACAAACATAGTTTTGGTGCCTAATTCTGTAATATGTTTTATTGAAATTAGATTCATTTCTCTAATGTGAGAAAAATATATCCAGTAATAGTATTGACTGTTTAAAAAATTGAGCTCATCAAAAATATTG\n",
      ">Hs.549162.1.9\n",
      "CTTGAACAAAGTCTCTGGGTCACGTTTTGCCTCATGAACACTGGCTGCAAGTGGTTAAGAATGTATATCAGGGTTTAACAATAGGTATTTCTTCCAGTGATGTTGAAATTAAGCTTAAAAAAGAAAGATTTTATGTGCTTGAAGATTCAGGCTTGCATTAAAAGACTGTTTTCAGACCTTTGTCTGAAGGATTTTAAATGCTGTATGTCATTAAAGTGCACTGTGTCCTGAAGTTTTCATTATTTTTCATTTCAAAGAATTCACTGGTATGGAACAGGTGATGTGGCATAAGGTGAGTGC\n",
      "\n"
     ]
    }
   ],
   "source": [
    "hg17_fai     = 'hg17.fa.fai'\n",
    "hg17_fa      = 'hg17.fa'\n",
    "\n",
    "# fasta\n",
    "output_fa = 'polyadb_seqs.fa'\n",
    "#!bedtools getfasta -name -s -fi \"$hg19_fa\" -bed \"$output_bed\" -fo | cut -d : -f-4 > \"$output_fa\"\n",
    "!bedtools getfasta -name -s -fi \"$hg17_fa\" -bed \"$output_bed\" -fo \"$output_fa\"\n",
    "    \n",
    "# file tops\n",
    "!head -5 \"$output_bed\" | column -t ; echo\n",
    "!head -10 \"$output_fa\" ; echo\n",
    "\n",
    "\n"
   ]
  },
  {
   "cell_type": "code",
   "execution_count": null,
   "metadata": {
    "collapsed": true
   },
   "outputs": [],
   "source": []
  }
 ],
 "metadata": {
  "kernelspec": {
   "display_name": "Python 3",
   "language": "python",
   "name": "python3"
  },
  "language_info": {
   "codemirror_mode": {
    "name": "ipython",
    "version": 3
   },
   "file_extension": ".py",
   "mimetype": "text/x-python",
   "name": "python",
   "nbconvert_exporter": "python",
   "pygments_lexer": "ipython3",
   "version": "3.4.3"
  }
 },
 "nbformat": 4,
 "nbformat_minor": 1
}
