{
 "cells": [
  {
   "cell_type": "code",
   "execution_count": 4,
   "metadata": {
    "collapsed": true
   },
   "outputs": [],
   "source": [
    "import pandas as pd\n",
    "import xml.etree.ElementTree as et\n",
    "\n",
    "import numpy as np\n",
    "import scipy.sparse as sp\n",
    "import scipy.io as spio\n",
    "\n",
    "def reverse_complement(seq) :\n",
    "    seq_prime = ''\n",
    "    for j in range(0, len(seq)) :\n",
    "        if seq[j] == 'A' :\n",
    "            seq_prime = 'T' + seq_prime\n",
    "        elif seq[j] == 'C' :\n",
    "            seq_prime = 'G' + seq_prime\n",
    "        elif seq[j] == 'G' :\n",
    "            seq_prime = 'C' + seq_prime\n",
    "        elif seq[j] == 'T' :\n",
    "            seq_prime = 'A' + seq_prime\n",
    "\n",
    "    return seq_prime"
   ]
  },
  {
   "cell_type": "code",
   "execution_count": 5,
   "metadata": {
    "collapsed": true
   },
   "outputs": [],
   "source": [
    "apadb_bed    = 'hg19.apadb_v2_final.bed'#'../../data/genome_hg19/features/hg19.apadb_v2_final.bed'\n",
    "\n",
    "hg19_fai     = 'hg19.fa.fai'#'../../data/genome_hg19/hg19.fa.fai' \n",
    "hg19_fa      = 'hg19.fa'#'../../data/genome_hg19/hg19.fa'\n",
    "\n",
    "df_columns = ['chr', 'cut_start', 'cut_end', 'gene', 'reads', 'strand', 'feature', 'mode', 'miRNA']\n",
    "df = pd.read_csv(apadb_bed, sep='\\t', header=None, names=df_columns, usecols=[0,1,2,3,4,5,6,8,9])\n",
    "\n",
    "df = df.ix[df.miRNA == 'None']\n",
    "df = df.ix[df.cut_end - df.cut_start <= 90]\n"
   ]
  },
  {
   "cell_type": "code",
   "execution_count": 6,
   "metadata": {
    "collapsed": false
   },
   "outputs": [
    {
     "name": "stdout",
     "output_type": "stream",
     "text": [
      "     chr  cut_start  cut_end       gene  reads strand feature    mode miRNA\n",
      "0  chr17      62260    62312   RPH3AL.1    122      -    UTR3   62297  None\n",
      "2  chr17     289758   289785  FAM101B.1     24      -    UTR3  289766  None\n",
      "3  chr17     289935   289947  FAM101B.2    170      -    UTR3  289946  None\n",
      "4  chr17     290016   290021  FAM101B.3     12      -    UTR3  290017  None\n",
      "5  chr17     290068   290076  FAM101B.4      6      -    UTR3  290071  None\n"
     ]
    }
   ],
   "source": [
    "print(df.head())"
   ]
  },
  {
   "cell_type": "code",
   "execution_count": 7,
   "metadata": {
    "collapsed": false
   },
   "outputs": [
    {
     "name": "stdout",
     "output_type": "stream",
     "text": [
      "     chr  cut_start  cut_end       gene  reads strand feature    mode miRNA  \\\n",
      "0  chr17      62260    62312   RPH3AL.1    122      -    UTR3   62297  None   \n",
      "2  chr17     289758   289785  FAM101B.1     24      -    UTR3  289766  None   \n",
      "3  chr17     289935   289947  FAM101B.2    170      -    UTR3  289946  None   \n",
      "4  chr17     290016   290021  FAM101B.3     12      -    UTR3  290017  None   \n",
      "5  chr17     290068   290076  FAM101B.4      6      -    UTR3  290071  None   \n",
      "\n",
      "    start     end  \n",
      "0   62222   62347  \n",
      "2  289691  289816  \n",
      "3  289871  289996  \n",
      "4  289942  290067  \n",
      "5  289996  290121  \n",
      "\n",
      "     chr  cut_start  cut_end       gene  reads strand feature    mode miRNA  \\\n",
      "0  chr17      62260    62312   RPH3AL.1    122      -    UTR3   62297  None   \n",
      "2  chr17     289758   289785  FAM101B.1     24      -    UTR3  289766  None   \n",
      "3  chr17     289935   289947  FAM101B.2    170      -    UTR3  289946  None   \n",
      "4  chr17     290016   290021  FAM101B.3     12      -    UTR3  290017  None   \n",
      "5  chr17     290068   290076  FAM101B.4      6      -    UTR3  290071  None   \n",
      "\n",
      "    start     end  genefam num_sites  total_reads  rel_use  \n",
      "0   62172   62472   RPH3AL         1          122    1.000  \n",
      "2  289641  289941  FAM101B         4          212    0.113  \n",
      "3  289821  290121  FAM101B         4          212    0.802  \n",
      "4  289892  290192  FAM101B         4          212    0.057  \n",
      "5  289946  290246  FAM101B         4          212    0.028  \n",
      "\n"
     ]
    }
   ],
   "source": [
    "\n",
    "\n",
    "\n",
    "#SNP search range surrounding PAS (+- 50bps)\n",
    "df.ix[df.strand == '+', 'start'] = df['mode']-75#50#mode#cut_start\n",
    "df.ix[df.strand == '+', 'end'] = df['mode']+50#25#mode#cut_start\n",
    "\n",
    "df.ix[df.strand == '-', 'start'] = df['mode']-75#25#mode#cut_end\n",
    "df.ix[df.strand == '-', 'end'] = df['mode']+50#50#mode#cut_end\n",
    "\n",
    "df.start = df.start.astype(int)\n",
    "df.end = df.end.astype(int)\n",
    "\n",
    "print(df.head())\n",
    "print('')\n",
    "\n",
    "output_bed = 'apadb_shortsites.bed'\n",
    "bed_columns = ['chr', 'start', 'end', 'gene', 'reads', 'strand']\n",
    "df.to_csv(output_bed, sep='\\t', header=False, columns=bed_columns, index=False)\n",
    "\n",
    "\n",
    "\n",
    "#Create bed file of apadb sites\n",
    "df.ix[df.strand == '+', 'start'] = df['mode']-175\n",
    "df.ix[df.strand == '+', 'end'] = df['mode']+125\n",
    "\n",
    "df.ix[df.strand == '-', 'start'] = df['mode']-125\n",
    "df.ix[df.strand == '-', 'end'] = df['mode']+175\n",
    "\n",
    "df.start = df.start.astype(int)\n",
    "df.end = df.end.astype(int)\n",
    "\n",
    "df['genefam']     = df['gene'].str.split('\\\\.').apply(lambda x: x[0])\n",
    "df['num_sites']         = df.groupby('genefam')['genefam'].transform(len)\n",
    "df['total_reads'] = df.groupby('genefam')['reads'].transform(lambda x: sum(x))\n",
    "df['rel_use']     = (df['reads'] / df['total_reads']).round(3)\n",
    "\n",
    "print(df.head())\n",
    "print('')\n",
    "\n",
    "output_bed = 'apadb_sites.bed'\n",
    "bed_columns = ['chr', 'start', 'end', 'gene', 'reads', 'strand']\n",
    "df.to_csv(output_bed, sep='\\t', header=False, columns=bed_columns, index=False)\n"
   ]
  },
  {
   "cell_type": "code",
   "execution_count": 10,
   "metadata": {
    "collapsed": false
   },
   "outputs": [
    {
     "name": "stdout",
     "output_type": "stream",
     "text": [
      "chr17  62172   62472   RPH3AL.1   122  -\n",
      "chr17  289641  289941  FAM101B.1  24   -\n",
      "chr17  289821  290121  FAM101B.2  170  -\n",
      "chr17  289892  290192  FAM101B.3  12   -\n",
      "chr17  289946  290246  FAM101B.4  6    -\n",
      "\n",
      ">RPH3AL.1\n",
      "CATCCTTCCTGCCTCCTGCCCCAAACCCCGGGTTCCTGGGTCTGGAAGGGCCTTCTCTCCAAGCTGGGAGCTCCTGGGCCCCCACCATTCACTTTTTGTCCTTGCTGCTGGCAAACAGTAAAGAAACTCACTTTCCCTGTGGCACGTTATGCTTCAGAATTAAAACAATGAAGATTAAAATTTGCACCGAGCCAGTGTGTTGATCGAAGACCACGATTGCCTGTGTTTCTGAGATGCGTCCATGGAAAAATGGAAAAAACTGTGGTGCGTTGACTTGCTGGAACCCTTCCTAAGCCGCAG\n",
      ">FAM101B.1\n",
      "AAACTTAATTTGAGCGAGTACCTTTTCATTTGACACTTTTCCTGTTTCTAACCTTAGGAAACCAGAATAGCGTTTGGCAGACACGACGTTTTCAGTTTACCTTTGACACCTGCCCCACTCCATTTTGCTTTGTGATGTCTTCATTTAACAATAAATTATCTGAAAAAACAAAACTTAGAGAGATGCTTCTGTTTTTAAAGTAGAATTATGTTTGTTTACGCAAAATGAGAAAAACAGCTCCTCATCTTGAGAAATTTTAAGACGTGATTATATTTAACAGTATTAATCTACAAGTACAAG\n",
      ">FAM101B.2\n",
      "GGAAGCAGTGATTTTTAGGACCCACTGATTAAAAACAAACATTCCCAAGTGTCTCTGAGAGATGCTGTTTATTTGTTAATTAAAAAGCTTTTTTCTCTGTCTTTTAAATTATGGCTTTCATGTAATAAGGATATTTTTAGTGAAAAATTGTTTTCCTTTCAAATTACAGACCTTTTAAAAAAACTTAATTTGAGCGAGTACCTTTTCATTTGACACTTTTCCTGTTTCTAACCTTAGGAAACCAGAATAGCGTTTGGCAGACACGACGTTTTCAGTTTACCTTTGACACCTGCCCCACTC\n",
      ">FAM101B.3\n",
      "GGAGAGAAACAGAACCCTTCAGGGTGGGTCAGAGGACGCCATCCACAGTGGATTCGTGTTCGTTTGCAGGTGGAAGCAGTGATTTTTAGGACCCACTGATTAAAAACAAACATTCCCAAGTGTCTCTGAGAGATGCTGTTTATTTGTTAATTAAAAAGCTTTTTTCTCTGTCTTTTAAATTATGGCTTTCATGTAATAAGGATATTTTTAGTGAAAAATTGTTTTCCTTTCAAATTACAGACCTTTTAAAAAAACTTAATTTGAGCGAGTACCTTTTCATTTGACACTTTTCCTGTTTCT\n",
      ">FAM101B.4\n",
      "AATCCTCTTTCTTCCAAACCTGCTTTGCTGAAAGTTGCAGAAAAGGAAGTGTGTGGAGAGAAACAGAACCCTTCAGGGTGGGTCAGAGGACGCCATCCACAGTGGATTCGTGTTCGTTTGCAGGTGGAAGCAGTGATTTTTAGGACCCACTGATTAAAAACAAACATTCCCAAGTGTCTCTGAGAGATGCTGTTTATTTGTTAATTAAAAAGCTTTTTTCTCTGTCTTTTAAATTATGGCTTTCATGTAATAAGGATATTTTTAGTGAAAAATTGTTTTCCTTTCAAATTACAGACCTTT\n",
      "\n"
     ]
    }
   ],
   "source": [
    "hg19_fai     = 'hg19.fa.fai'\n",
    "hg19_fa      = 'hg19.fa'\n",
    "\n",
    "# fasta\n",
    "output_fa = 'apadb_seqs.fa'\n",
    "#!bedtools getfasta -name -s -fi \"$hg19_fa\" -bed \"$output_bed\" -fo | cut -d : -f-4 > \"$output_fa\"\n",
    "!bedtools getfasta -name -s -fi \"$hg19_fa\" -bed \"$output_bed\" -fo \"$output_fa\"\n",
    "    \n",
    "# file tops\n",
    "!head -5 \"$output_bed\" | column -t ; echo\n",
    "!head -10 \"$output_fa\" ; echo\n",
    "\n",
    "\n"
   ]
  },
  {
   "cell_type": "code",
   "execution_count": 11,
   "metadata": {
    "collapsed": false,
    "scrolled": true
   },
   "outputs": [
    {
     "name": "stdout",
     "output_type": "stream",
     "text": [
      "{'chr': 'chr17', 'dn_site_dist': 71, 'reads': 12, 'total_reads': 212, 'num_sites': 4, 'end': 290192, 'start': 289892, 'seq': 'GGAGAGAAACAGAACCCTTCAGGGTGGGTCAGAGGACGCCATCCACAGTGGATTCGTGTTCGTTTGCAGGTGGAAGCAGTGATTTTTAGGACCCACTGATTAAAAACAAACATTCCCAAGTGTCTCTGAGAGATGCTGTTTATTTGTTAATTAAAAAGCTTTTTTCTCTGTCTTTTAAATTATGGCTTTCATGTAATAAGGATATTTTTAGTGAAAAATTGTTTTCCTTTCAAATTACAGACCTTTTAAAAAAACTTAATTTGAGCGAGTACCTTTTCATTTGACACTTTTCCTGTTTCT', 'feature': 'UTR3', 'mode': 290017, 'strand': '-', 'rel_use': 0.057, 'up_site_dist': 54}\n"
     ]
    }
   ],
   "source": [
    "\n",
    "apadb_dict = {}\n",
    "\n",
    "for index, row in df.iterrows() :\n",
    "    apadb_dict[row['gene']] = {}\n",
    "    apadb_dict[row['gene']]['chr'] = row['chr']\n",
    "    apadb_dict[row['gene']]['start'] = row['start']\n",
    "    apadb_dict[row['gene']]['end'] = row['end']\n",
    "    apadb_dict[row['gene']]['mode'] = row['mode']\n",
    "    apadb_dict[row['gene']]['feature'] = row['feature']\n",
    "    apadb_dict[row['gene']]['strand'] = row['strand']\n",
    "    \n",
    "    apadb_dict[row['gene']]['num_sites'] = row['num_sites']\n",
    "    apadb_dict[row['gene']]['reads'] = row['reads']\n",
    "    apadb_dict[row['gene']]['total_reads'] = row['total_reads']\n",
    "    apadb_dict[row['gene']]['rel_use'] = row['rel_use']\n",
    "\n",
    "\n",
    "for gene in apadb_dict :\n",
    "    \n",
    "    genefam = gene.split('.')[0]\n",
    "    site = int(gene.split('.')[1])\n",
    "    \n",
    "    #Upstream site if any\n",
    "    up_gene = genefam + '.' + str(site + 1)\n",
    "    if up_gene in apadb_dict :\n",
    "        apadb_dict[gene]['up_site_dist'] = np.abs(apadb_dict[up_gene]['mode'] - apadb_dict[gene]['mode'])\n",
    "    else :\n",
    "        apadb_dict[gene]['up_site_dist'] = 10000\n",
    "    \n",
    "    #Downstream site if any\n",
    "    dn_gene = genefam + '.' + str(site - 1)\n",
    "    if dn_gene in apadb_dict :\n",
    "        apadb_dict[gene]['dn_site_dist'] = np.abs(apadb_dict[dn_gene]['mode'] - apadb_dict[gene]['mode'])\n",
    "    else :\n",
    "        apadb_dict[gene]['dn_site_dist'] = 10000\n",
    "\n",
    "\n",
    "with open('apadb_seqs.fa') as seq_f:\n",
    "    seq_id = ''\n",
    "    for line in seq_f:\n",
    "        if line[0] == '>' :\n",
    "            seq_id = line[1:len(line) - 1]\n",
    "        else :\n",
    "            apadb_dict[seq_id]['seq'] = line[:len(line) - 1].upper()\n",
    "            \n",
    "print(apadb_dict['FAM101B.3'])\n",
    "        \n",
    "        \n",
    "        \n"
   ]
  },
  {
   "cell_type": "code",
   "execution_count": 12,
   "metadata": {
    "collapsed": false,
    "scrolled": true
   },
   "outputs": [
    {
     "name": "stdout",
     "output_type": "stream",
     "text": [
      "UTR-3\n",
      "STOP-GAIN\n",
      "129044\n",
      "{'intergenic': True, 'splice-5': True, 'cds-synon': True, 'missense': True, 'nearGene-3': True, 'ncRNA': True, 'STOP-GAIN': True, 'frameshift': True, 'cds-indel': True, 'STOP-LOSS': True, 'intron': True, 'nearGene-5': True, 'UTR-3': True, 'splice-3': True, 'UTR-5': True}\n"
     ]
    }
   ],
   "source": [
    "\n",
    "#Parse clinvar molecular conseq data\n",
    "\n",
    "\n",
    "cons_dict = {}\n",
    "\n",
    "unique_consequences = {}\n",
    "\n",
    "i = 0\n",
    "with open('molecular_consequences.txt') as f:\n",
    "    for line in f:\n",
    "        \n",
    "        lineparts = line[:-1].split('\\t')\n",
    "        \n",
    "        hgvs = lineparts[0]\n",
    "        cons = lineparts[2]\n",
    "        \n",
    "        if i > 0 :\n",
    "            cons_dict[hgvs] = cons\n",
    "            \n",
    "            if cons not in unique_consequences :\n",
    "                unique_consequences[cons] = True\n",
    "        \n",
    "        i += 1\n",
    "\n",
    "\n",
    "print(cons_dict['AJ132917.1:c.*14G>A'])\n",
    "\n",
    "print(cons_dict['NM_000047.2:c.1743G>A'])\n",
    "\n",
    "print(len(cons_dict))\n",
    "\n",
    "print(unique_consequences)"
   ]
  },
  {
   "cell_type": "code",
   "execution_count": 13,
   "metadata": {
    "collapsed": false
   },
   "outputs": [
    {
     "name": "stdout",
     "output_type": "stream",
     "text": [
      "Parsed 0 rows.\n",
      "Parsed 10000000 rows.\n",
      "Parsed 20000000 rows.\n",
      "Parsed 30000000 rows.\n",
      "Parsed 40000000 rows.\n",
      "Parsed 50000000 rows.\n",
      "Parsed 60000000 rows.\n",
      "Parsed 70000000 rows.\n",
      "Parsed 80000000 rows.\n",
      "Parsed 90000000 rows.\n",
      "{'stop lost': True, 'splice donor variant': True, 'no-stop change?': True, 'non-coding transcript variant': True, 'synonymous mutation': True, '500B downstream variant': True, 'frameshift variant': True, 'Silent': True, 'Read-through mutation': True, 'regulatory region ablation': True, 'Frameshift': True, 'intron variant': True, 'Missense': True, 'synonymous variant': True, '5 prime UTR variant': True, 'splice acceptor variant': True, 'frameshift mutation': True, 'Splice Site donor': True, '2KB upstream variant': True, 'nonsense': True, '3 prime UTR variant': True, 'missense mutation': True, 'intergenic_variant': True, 'Nonsense': True, 'Splice Site acceptor': True, 'missense variant': True, 'inframe_variant': True, 'exon_loss': True}\n",
      "433704\n"
     ]
    }
   ],
   "source": [
    "\n",
    "#cons_dict = {}\n",
    "\n",
    "unique_consequences = {}\n",
    "\n",
    "i = 0\n",
    "with open('ClinVarFullRelease_2017-09.xml') as f:\n",
    "    \n",
    "    has_read_consequence = False\n",
    "    has_read_id = False\n",
    "    \n",
    "    consequence = ''\n",
    "    cons_id = ''\n",
    "    \n",
    "    for line in f:\n",
    "        \n",
    "        if i % 10000000 == 0 :\n",
    "            print('Parsed ' + str(i) + ' rows.')\n",
    "        \n",
    "        if 'MolecularConsequence' in line :\n",
    "            has_read_consequence = True\n",
    "            has_read_id = False\n",
    "            \n",
    "            consequence = line.split('<Attribute Type=\\\"MolecularConsequence\\\">')[1].split('</Attribute>')[0]\n",
    "            \n",
    "            if consequence not in unique_consequences :\n",
    "                unique_consequences[consequence] = True\n",
    "        \n",
    "        if has_read_consequence == True and has_read_id == False :\n",
    "            if 'XRef ID' in line and 'RefSeq' in line :\n",
    "                has_read_id = True\n",
    "                \n",
    "                cons_id = line.split('<XRef ID=\\\"')[1].split('\\\" DB=\"RefSeq\"/>')[0].replace('&gt;', '>')\n",
    "                \n",
    "                if cons_id not in cons_dict :\n",
    "                    cons_dict[cons_id] = consequence\n",
    "                \n",
    "                \n",
    "                consequence = ''\n",
    "                cons_id = ''\n",
    "        i += 1\n",
    "                \n",
    "print(unique_consequences)\n",
    "\n",
    "print(len(cons_dict))\n"
   ]
  },
  {
   "cell_type": "code",
   "execution_count": 14,
   "metadata": {
    "collapsed": false
   },
   "outputs": [
    {
     "name": "stdout",
     "output_type": "stream",
     "text": [
      "stop lost\n"
     ]
    }
   ],
   "source": [
    "print(cons_dict['NM_020461.3:c.5458T>G'])"
   ]
  },
  {
   "cell_type": "code",
   "execution_count": 32,
   "metadata": {
    "collapsed": false
   },
   "outputs": [
    {
     "name": "stdout",
     "output_type": "stream",
     "text": [
      "STOP-GAIN\n",
      "STOP-GAIN\n",
      "     chr     start       end  \\\n",
      "0   chr7   4820844   4820847   \n",
      "1   chr7   4781213   4781216   \n",
      "2   chr7   4827366   4827379   \n",
      "3   chr7   4787735   4787748   \n",
      "4  chr15  85342440  85342440   \n",
      "\n",
      "                                                gene       refallele  \\\n",
      "0  AP5Z1:chr7:4820844:4820847:GGAT->TGCTGTAAACTGT...            GGAT   \n",
      "1  AP5Z1:chr7:4781213:4781216:GGAT->TGCTGTAAACTGT...            GGAT   \n",
      "2       AP5Z1:chr7:4827366:4827379:GGACCTGCCCTGCT->-  GGACCTGCCCTGCT   \n",
      "3       AP5Z1:chr7:4787735:4787748:GGACCTGCCCTGCT->-  GGACCTGCCCTGCT   \n",
      "4                ZNF592:chr15:85342440:85342440:G->A               G   \n",
      "\n",
      "                varallele assembly            significance  \\\n",
      "0  TGCTGTAAACTGTAACTGTAAA   GRCh37              Pathogenic   \n",
      "1  TGCTGTAAACTGTAACTGTAAA   GRCh38              Pathogenic   \n",
      "2                       -   GRCh37              Pathogenic   \n",
      "3                       -   GRCh38              Pathogenic   \n",
      "4                       A   GRCh37  Uncertain significance   \n",
      "\n",
      "                     vartype         consequence  \n",
      "0                      indel     inframe_variant  \n",
      "1                      indel     inframe_variant  \n",
      "2                   deletion  frameshift variant  \n",
      "3                   deletion  frameshift variant  \n",
      "4  single nucleotide variant            missense  \n",
      "\n",
      "319318\n",
      "261798\n"
     ]
    }
   ],
   "source": [
    "\n",
    "#Parse clinvar data\n",
    "clinvar_summary_file = 'variant_summary.txt'\n",
    "\n",
    "variant_type = []\n",
    "variant_gene = []\n",
    "variant_clinsig = []\n",
    "variant_assembly = []\n",
    "variant_chrom = []\n",
    "variant_start = []\n",
    "variant_end = []\n",
    "variant_refallele = []\n",
    "variant_varallele = []\n",
    "variant_key = []\n",
    "\n",
    "variant_cons = []\n",
    "\n",
    "i = 0\n",
    "with open(clinvar_summary_file) as f:\n",
    "    for line in f:\n",
    "        \n",
    "        lineparts = line.split('\\t')\n",
    "        \n",
    "        if i > 0 :\n",
    "            variant_type.append(lineparts[1])\n",
    "            variant_gene.append(lineparts[4] + ':' + 'chr' + lineparts[18] + ':' + lineparts[19] + ':' + lineparts[20] + ':' + lineparts[21] + '->' + lineparts[22])\n",
    "            variant_clinsig.append(lineparts[6])\n",
    "            variant_assembly.append(lineparts[16])\n",
    "            variant_chrom.append('chr' + lineparts[18])\n",
    "            variant_start.append(int(lineparts[19]))\n",
    "            variant_end.append(int(lineparts[20]))\n",
    "            variant_refallele.append(lineparts[21])\n",
    "            variant_varallele.append(lineparts[22])\n",
    "            \n",
    "            hgvs = ''\n",
    "            \n",
    "            '''if 'NM_000047.2(ARSE):c.1743G>A' in lineparts[2] :\n",
    "                print(lineparts[2])\n",
    "                print(len(lineparts[2].split('(')))\n",
    "                hgvs = lineparts[2].split('(')[0] + lineparts[2].split(')')[1]\n",
    "                print(hgvs)\n",
    "                print(cons_dict[hgvs])'''\n",
    "            \n",
    "            hgvs = lineparts[2]\n",
    "            if ' ' in hgvs :\n",
    "                hgvs = hgvs.split(' ')[0]\n",
    "            \n",
    "            if len(hgvs.split('(')) == 2 :\n",
    "                hgvs = hgvs.split('(')[0] + hgvs.split(')')[1]\n",
    "            \n",
    "            \n",
    "            if 'NM_000047.2(ARSE):c.1743G>A' in lineparts[2] :\n",
    "                print(cons_dict[hgvs])\n",
    "            \n",
    "            \n",
    "            if hgvs in cons_dict:\n",
    "                variant_cons.append(cons_dict[hgvs])\n",
    "            else :\n",
    "                variant_cons.append('undetermined')\n",
    "        \n",
    "        i += 1\n",
    "\n",
    "clinvar_df = pd.DataFrame({'chr' : variant_chrom,\n",
    "                    'start' : variant_start,\n",
    "                    'end' : variant_end,\n",
    "                    'gene' : variant_gene,\n",
    "                    'refallele' : variant_refallele,\n",
    "                    'varallele' : variant_varallele,\n",
    "                    'assembly' : variant_assembly,\n",
    "                    'significance' : variant_clinsig,\n",
    "                    'vartype' : variant_type,\n",
    "                    'consequence' : variant_cons\n",
    "                })\n",
    "\n",
    "clinvar_df = clinvar_df[['chr', 'start', 'end', 'gene', 'refallele', 'varallele', 'assembly', 'significance', 'vartype', 'consequence']]\n",
    "\n",
    "\n",
    "print(clinvar_df.head())\n",
    "print('')\n",
    "\n",
    "clinvar_df = clinvar_df.ix[clinvar_df.assembly == 'GRCh37']\n",
    "\n",
    "print(len(clinvar_df))\n",
    "\n",
    "clinvar_df = clinvar_df.ix[clinvar_df.vartype == 'single nucleotide variant']\n",
    "#clinvar_df = clinvar_df.ix[(((clinvar_df.vartype == 'single nucleotide variant') | (clinvar_df.vartype == 'insertion')) | (clinvar_df.vartype == 'deletion')) | (clinvar_df.vartype == 'indel')]\n",
    "#clinvar_df = clinvar_df.ix[clinvar_df.end - clinvar_df.start <= 8]\n",
    "\n",
    "print(len(clinvar_df))"
   ]
  },
  {
   "cell_type": "code",
   "execution_count": 33,
   "metadata": {
    "collapsed": false
   },
   "outputs": [
    {
     "name": "stdout",
     "output_type": "stream",
     "text": [
      "All undetermined\n",
      "111725\n",
      "All determined\n",
      "112896\n",
      "All pathogenic\n",
      "41811\n",
      "All benign\n",
      "71085\n"
     ]
    }
   ],
   "source": [
    "\n",
    "print('All undetermined')\n",
    "print(len(clinvar_df[(clinvar_df.significance == 'Uncertain significance')]))\n",
    "\n",
    "print('All determined')\n",
    "print(len(clinvar_df[\n",
    "            ((((clinvar_df.significance == 'Pathogenic') |\n",
    "            (clinvar_df.significance == 'Likely pathogenic')) |\n",
    "            (clinvar_df.significance == 'Benign')) |\n",
    "            (clinvar_df.significance == 'Likely benign'))\n",
    "        ]))\n",
    "\n",
    "print('All pathogenic')\n",
    "print(len(clinvar_df[\n",
    "            ((clinvar_df.significance == 'Pathogenic') |\n",
    "            (clinvar_df.significance == 'Likely pathogenic'))\n",
    "        ]))\n",
    "\n",
    "print('All benign')\n",
    "print(len(clinvar_df[\n",
    "            ((clinvar_df.significance == 'Benign') |\n",
    "            (clinvar_df.significance == 'Likely benign'))\n",
    "        ]))\n"
   ]
  },
  {
   "cell_type": "code",
   "execution_count": 37,
   "metadata": {
    "collapsed": false
   },
   "outputs": [
    {
     "name": "stdout",
     "output_type": "stream",
     "text": [
      "28315\n",
      "36\n",
      "32279\n"
     ]
    }
   ],
   "source": [
    "'''\n",
    "{'stop lost': True, 'splice donor variant': True, 'no-stop change?': True, 'non-coding transcript variant': True, 'synonymous mutation': True, '500B downstream variant': True, 'frameshift variant': True, 'Silent': True, 'Read-through mutation': True, 'regulatory region ablation': True, 'Frameshift': True, 'intron variant': True, 'Missense': True, 'synonymous variant': True, '5 prime UTR variant': True, 'splice acceptor variant': True, 'frameshift mutation': True, 'Splice Site donor': True, '2KB upstream variant': True, 'nonsense': True, '3 prime UTR variant': True, 'missense mutation': True, 'intergenic_variant': True, 'Nonsense': True, 'Splice Site acceptor': True, 'missense variant': True, 'inframe_variant': True, 'exon_loss': True}\n",
    "{'intergenic': True, 'splice-5': True, 'cds-synon': True, 'missense': True, 'nearGene-3': True, 'ncRNA': True, 'STOP-GAIN': True, 'frameshift': True, 'cds-indel': True, 'STOP-LOSS': True, 'intron': True, 'nearGene-5': True, 'UTR-3': True, 'splice-3': True, 'UTR-5': True}\n",
    "'''\n",
    "\n",
    "\n",
    "clinvar_utr3 = clinvar_df.ix[(clinvar_df.consequence == 'UTR-3') | (clinvar_df.consequence == '3 prime UTR variant')]\n",
    "print(len(clinvar_utr3))\n",
    "\n",
    "clinvar_utr3_and_noncoding = clinvar_df.ix[(clinvar_df.consequence == 'non-coding transcript variant')]\n",
    "print(len(clinvar_utr3_and_noncoding))\n",
    "\n",
    "\n",
    "clinvar_splicing = clinvar_df.ix[\n",
    "    (((((((clinvar_df.consequence == 'splice-5')\n",
    "    |\n",
    "    (clinvar_df.consequence == 'splice-3'))\n",
    "    |\n",
    "    (clinvar_df.consequence == 'intron'))\n",
    "    |\n",
    "    (clinvar_df.consequence == 'splice donor variant'))\n",
    "    |\n",
    "    (clinvar_df.consequence == 'splice acceptor variant'))\n",
    "    |\n",
    "    (clinvar_df.consequence == 'Splice Site donor'))\n",
    "    |\n",
    "    (clinvar_df.consequence == 'Splice Site acceptor'))\n",
    "    |\n",
    "    (clinvar_df.consequence == 'intron variant')\n",
    "]\n",
    "print(len(clinvar_splicing))\n",
    "\n"
   ]
  },
  {
   "cell_type": "code",
   "execution_count": 45,
   "metadata": {
    "collapsed": false
   },
   "outputs": [
    {
     "name": "stdout",
     "output_type": "stream",
     "text": [
      "['Benign' 'Pathogenic' 'Likely pathogenic, risk factor' 'drug response'\n",
      " 'Conflicting interpretations of pathogenicity' 'association'\n",
      " 'Uncertain significance' 'Pathogenic/Likely pathogenic' 'risk factor'\n",
      " 'Pathogenic, risk factor' 'Benign/Likely benign, association' '-'\n",
      " 'drug response, risk factor'\n",
      " 'Conflicting interpretations of pathogenicity, protective' 'protective'\n",
      " 'Pathogenic, other' 'Affects' 'other' 'Benign/Likely benign'\n",
      " 'not provided' 'Likely pathogenic' 'Likely benign'\n",
      " 'Benign/Likely benign, risk factor' 'Benign, other'\n",
      " 'Benign/Likely benign, other' 'Pathogenic, protective'\n",
      " 'Uncertain significance, drug response'\n",
      " 'Conflicting interpretations of pathogenicity, other']\n",
      "Splicing undetermined\n",
      "6983\n",
      "Splicing determined\n",
      "9235\n",
      "Splicing pathogenic\n",
      "3548\n",
      "Splicing benign\n",
      "5687\n"
     ]
    }
   ],
   "source": [
    "\n",
    "print(clinvar_splicing.significance.unique())\n",
    "\n",
    "print('Splicing undetermined')\n",
    "print(len(clinvar_splicing[(clinvar_splicing.significance == 'Uncertain significance')]))\n",
    "\n",
    "print('Splicing determined')\n",
    "print(len(clinvar_splicing[\n",
    "            ((clinvar_splicing.significance == 'Pathogenic') |\n",
    "            (clinvar_splicing.significance == 'Benign'))\n",
    "        ]))\n",
    "\n",
    "print('Splicing pathogenic')\n",
    "print(len(clinvar_splicing[\n",
    "            (clinvar_splicing.significance == 'Pathogenic') #|\n",
    "#            (clinvar_splicing.significance == 'Likely pathogenic'))\n",
    "        ]))\n",
    "\n",
    "print('Splicing benign')\n",
    "print(len(clinvar_splicing[\n",
    "            (clinvar_splicing.significance == 'Benign') #|\n",
    "#            (clinvar_splicing.significance == 'Likely benign'))\n",
    "        ]))\n"
   ]
  },
  {
   "cell_type": "code",
   "execution_count": 44,
   "metadata": {
    "collapsed": false
   },
   "outputs": [
    {
     "name": "stdout",
     "output_type": "stream",
     "text": [
      "['Uncertain significance' 'Pathogenic'\n",
      " 'Conflicting interpretations of pathogenicity'\n",
      " 'Conflicting interpretations of pathogenicity, other' 'risk factor'\n",
      " 'association' 'Pathogenic, risk factor' 'Benign, risk factor' 'Benign'\n",
      " 'Benign/Likely benign' 'Likely benign' 'not provided'\n",
      " 'Conflicting interpretations of pathogenicity, risk factor'\n",
      " 'Benign, association' 'other' 'Benign, other' 'drug response']\n",
      "UTR 3 undetermined\n",
      "16849\n",
      "UTR 3 determined\n",
      "3219\n",
      "UTR 3 pathogenic\n",
      "18\n",
      "UTR 3 benign\n",
      "3201\n"
     ]
    }
   ],
   "source": [
    "\n",
    "print(clinvar_utr3.significance.unique())\n",
    "\n",
    "print('UTR 3 undetermined')\n",
    "print(len(clinvar_utr3[(clinvar_utr3.significance == 'Uncertain significance')]))\n",
    "\n",
    "print('UTR 3 determined')\n",
    "print(len(clinvar_utr3[\n",
    "            ((clinvar_utr3.significance == 'Pathogenic') |\n",
    "            (clinvar_utr3.significance == 'Benign'))\n",
    "        ]))\n",
    "\n",
    "print('UTR 3 pathogenic')\n",
    "print(len(clinvar_utr3[\n",
    "            (clinvar_utr3.significance == 'Pathogenic') #|\n",
    "#            (clinvar_utr3.significance == 'Likely pathogenic'))\n",
    "        ]))\n",
    "\n",
    "print('UTR 3 benign')\n",
    "print(len(clinvar_utr3[\n",
    "            (clinvar_utr3.significance == 'Benign') #|\n",
    "#            (clinvar_utr3.significance == 'Likely benign'))\n",
    "        ]))\n"
   ]
  },
  {
   "cell_type": "code",
   "execution_count": 25,
   "metadata": {
    "collapsed": false
   },
   "outputs": [
    {
     "name": "stdout",
     "output_type": "stream",
     "text": [
      "        chr      start        end                                  gene  \\\n",
      "1625  chr22   45691707   45691707    UPK3A:chr22:45691707:45691707:T->C   \n",
      "2886  chr13   84452863   84452863  SLITRK1:chr13:84452863:84452863:C->T   \n",
      "3353   chr2   86444180   86444180     REEP1:chr2:86444180:86444180:C->A   \n",
      "5493  chr22   51063477   51063477     ARSA:chr22:51063477:51063477:T->C   \n",
      "6089   chr7  128589427  128589427    IRF5:chr7:128589427:128589427:G->A   \n",
      "\n",
      "     refallele varallele assembly  \\\n",
      "1625         T         C   GRCh37   \n",
      "2886         C         T   GRCh37   \n",
      "3353         C         A   GRCh37   \n",
      "5493         T         C   GRCh37   \n",
      "6089         G         A   GRCh37   \n",
      "\n",
      "                                           significance  \\\n",
      "1625                             Uncertain significance   \n",
      "2886                                         Pathogenic   \n",
      "3353       Conflicting interpretations of pathogenicity   \n",
      "5493  Conflicting interpretations of pathogenicity, ...   \n",
      "6089                                        risk factor   \n",
      "\n",
      "                        vartype          consequence  \n",
      "1625  single nucleotide variant  3 prime UTR variant  \n",
      "2886  single nucleotide variant  3 prime UTR variant  \n",
      "3353  single nucleotide variant  3 prime UTR variant  \n",
      "5493  single nucleotide variant                UTR-3  \n",
      "6089  single nucleotide variant  3 prime UTR variant  \n",
      "28315\n"
     ]
    }
   ],
   "source": [
    "'''clinvar_df = clinvar_df.ix[\n",
    "    (((((((clinvar_df.consequence == 'UTR-3')\n",
    "    |\n",
    "    (clinvar_df.consequence == 'UTR-5'))\n",
    "    |\n",
    "    (clinvar_df.consequence == 'intron'))\n",
    "    |\n",
    "    (clinvar_df.consequence == 'undetermined'))\n",
    "    |\n",
    "    (clinvar_df.consequence == '5 prime UTR variant'))\n",
    "    |\n",
    "    (clinvar_df.consequence == '3 prime UTR variant'))\n",
    "    |\n",
    "    (clinvar_df.consequence == 'non-coding transcript variant'))\n",
    "    |\n",
    "    (clinvar_df.consequence == 'intron variant')\n",
    "]'''\n",
    "clinvar_df = clinvar_df.ix[(clinvar_df.consequence == 'UTR-3') | (clinvar_df.consequence == '3 prime UTR variant')]\n",
    "\n",
    "print(clinvar_df.head())\n",
    "print(len(clinvar_df))\n",
    "\n",
    "\n",
    "clinvar_dict = {}\n",
    "\n",
    "for index, row in clinvar_df.iterrows() :\n",
    "    clinvar_dict[row['gene']] = {}\n",
    "    clinvar_dict[row['gene']]['significance'] = row['significance']\n",
    "    clinvar_dict[row['gene']]['vartype'] = row['vartype']\n",
    "    clinvar_dict[row['gene']]['varcons'] = row['consequence']\n",
    "    \n",
    "    clinvar_dict[row['gene']]['refallele'] = row['refallele']\n",
    "    clinvar_dict[row['gene']]['varallele'] = row['varallele']\n"
   ]
  },
  {
   "cell_type": "code",
   "execution_count": 26,
   "metadata": {
    "collapsed": true
   },
   "outputs": [],
   "source": [
    "#Create bed file of apadb sites\n",
    "\n",
    "clinvar_bed = 'clinvar_snps.bed'\n",
    "bed_columns = ['chr', 'start', 'end', 'gene']\n",
    "clinvar_df.to_csv(clinvar_bed, sep='\\t', header=False, columns=bed_columns, index=False)"
   ]
  },
  {
   "cell_type": "code",
   "execution_count": 27,
   "metadata": {
    "collapsed": true
   },
   "outputs": [],
   "source": [
    "\n",
    "#Intersect Clinvar snps against APADB bed\n",
    "\n",
    "!bedtools intersect -wa -wb -a 'clinvar_snps.bed' -b 'apadb_shortsites.bed' > 'clinvar_apadb_intersection.bed'\n",
    "\n"
   ]
  },
  {
   "cell_type": "code",
   "execution_count": 28,
   "metadata": {
    "collapsed": false
   },
   "outputs": [
    {
     "name": "stdout",
     "output_type": "stream",
     "text": [
      "     chr  snp_start    snp_end                             snp_key apadb_site\n",
      "0  chr22   45691707   45691707  UPK3A:chr22:45691707:45691707:T->C    UPK3A.1\n",
      "1   chr7  128589427  128589427  IRF5:chr7:128589427:128589427:G->A     IRF5.2\n",
      "2  chr11   46761055   46761055     F2:chr11:46761055:46761055:G->A       F2.1\n",
      "3  chr11    5246715    5246715      HBB:chr11:5246715:5246715:T->C      HBB.1\n",
      "4  chr11    5246715    5246715      HBB:chr11:5246715:5246715:T->C      HBB.2\n",
      "2338\n"
     ]
    }
   ],
   "source": [
    "\n",
    "intersect_columns = ['chr', 'snp_start', 'snp_end', 'snp_key', 'apadb_site']\n",
    "intersect_df = pd.read_csv('clinvar_apadb_intersection.bed', sep='\\t', header=None, names=intersect_columns, usecols=[0, 1, 2, 3, 7])\n",
    "\n",
    "print(intersect_df.head())\n",
    "\n",
    "print(len(intersect_df))\n"
   ]
  },
  {
   "cell_type": "code",
   "execution_count": 29,
   "metadata": {
    "collapsed": false
   },
   "outputs": [
    {
     "name": "stdout",
     "output_type": "stream",
     "text": [
      "Empty DataFrame\n",
      "Columns: [chr, snp_start, snp_end, snp_key, apadb_site]\n",
      "Index: []\n"
     ]
    }
   ],
   "source": [
    "print(intersect_df[intersect_df.apadb_site == 'TUBGCP6.2'])"
   ]
  },
  {
   "cell_type": "code",
   "execution_count": 30,
   "metadata": {
    "collapsed": false
   },
   "outputs": [
    {
     "name": "stdout",
     "output_type": "stream",
     "text": [
      "         gene  var_pos                                            ref_seq  \\\n",
      "1784   AAAS.1      179  TGGGCGGGCCCAGGAACCCCCTGCTGGGGGTGGAGGCTCTATTCAT...   \n",
      "2118   AARS.2      165  AATTTCTGCCCTGAGCCCTCCACGTCAGTGCCATCGGTCTAGAACC...   \n",
      "984   AARS2.1      171  TGGAGGAAAGCCCTCCTTCCCTACCAGAATGAGTCCACCTCAGACA...   \n",
      "861   AARS2.2      200  GTGAGGGTGTGACCCGTGTGGAAATCAGGGAAAAGCATTCCAGCCT...   \n",
      "779   AARS2.2      173  GTGAGGGTGTGACCCGTGTGGAAATCAGGGAAAAGCATTCCAGCCT...   \n",
      "\n",
      "                                                var_seq region  \\\n",
      "1784  TGGGCGGGCCCAGGAACCCCCTGCTGGGGGTGGAGGCTCTATTCAT...   UTR3   \n",
      "2118  AATTTCTGCCCTGAGCCCTCCACGTCAGTGCCATCGGTCTAGAACC...   UTR3   \n",
      "984   TGGAGGAAAGCCCTCCTTCCCTACCAGAATGAGTCCACCTCAGACA...   UTR3   \n",
      "861   GTGAGGGTGTGACCCGTGTGGAAATCAGGGAAAAGCATTCCAGCCT...   UTR3   \n",
      "779   GTGAGGGTGTGACCCGTGTGGAAATCAGGGAAAAGCATTCCAGCCT...   UTR3   \n",
      "\n",
      "                significance                    vartype  num_sites  \\\n",
      "1784           Likely benign  single nucleotide variant          1   \n",
      "2118  Uncertain significance  single nucleotide variant          2   \n",
      "984   Uncertain significance  single nucleotide variant          5   \n",
      "861   Uncertain significance  single nucleotide variant          5   \n",
      "779            Likely benign  single nucleotide variant          5   \n",
      "\n",
      "      up_site_dist  dn_site_dist  reads  total_reads  rel_use  \n",
      "1784         10000         10000   1090         1090    1.000  \n",
      "2118         10000            89   1131         1814    0.623  \n",
      "984            237         10000    114          297    0.384  \n",
      "861            592           237     20          297    0.067  \n",
      "779            592           237     20          297    0.067  \n",
      "2338\n"
     ]
    }
   ],
   "source": [
    "\n",
    "#Generate APADB Clinvar variant dataset\n",
    "\n",
    "l_gene = []\n",
    "l_refseq = []\n",
    "l_varseq = []\n",
    "l_region = []\n",
    "l_significance = []\n",
    "l_vartype = []\n",
    "l_varpos = []\n",
    "l_reads = []\n",
    "l_totalreads = []\n",
    "l_reluse = []\n",
    "l_numsites = []\n",
    "l_upsitedist = []\n",
    "l_dnsitedist = []\n",
    "\n",
    "for index, row in intersect_df.iterrows() :\n",
    "    site_id = row['apadb_site']\n",
    "    \n",
    "    site_start = apadb_dict[site_id]['start']\n",
    "    site_end = apadb_dict[site_id]['end']\n",
    "    site_strand = apadb_dict[site_id]['strand']\n",
    "    site_refseq = apadb_dict[site_id]['seq']\n",
    "    \n",
    "    site_num = apadb_dict[site_id]['num_sites']\n",
    "    site_up_dist = apadb_dict[site_id]['up_site_dist']\n",
    "    site_dn_dist = apadb_dict[site_id]['dn_site_dist']\n",
    "    \n",
    "    snp_start = row['snp_start']\n",
    "    snp_end = row['snp_end']\n",
    "    snp_ref = row['snp_key'].split('->')[0][len(row['snp_key'].split('->')[0])-1]\n",
    "    snp_var = row['snp_key'].split('->')[1][0]\n",
    "    \n",
    "    \n",
    "    site_varseq = site_refseq\n",
    "    relpos = -1\n",
    "    \n",
    "    if site_strand == '+' :\n",
    "        relpos = snp_start - site_start - 1\n",
    "        if relpos < 0 :\n",
    "            print('WARNING (+)! Relpos out of range (' + str(relpos) + ')')\n",
    "            continue\n",
    "        if site_refseq[relpos] != snp_ref :\n",
    "            print('WARNING (+)! Ref base differs.')\n",
    "            print(relpos)\n",
    "            print(site_refseq[relpos-5:relpos+5])\n",
    "            print(site_refseq[relpos])\n",
    "            print(snp_ref)\n",
    "        site_varseq = site_varseq[:relpos] + snp_var + site_varseq[relpos+1:]\n",
    "    elif site_strand == '-' :\n",
    "        snp_ref_comp = ''\n",
    "        if snp_ref == 'A' :\n",
    "            snp_ref_comp = 'T'\n",
    "        elif snp_ref == 'C' :\n",
    "            snp_ref_comp = 'G'\n",
    "        elif snp_ref == 'G' :\n",
    "            snp_ref_comp = 'C'\n",
    "        elif snp_ref == 'T' :\n",
    "            snp_ref_comp = 'A'\n",
    "        \n",
    "        snp_var_comp = ''\n",
    "        if snp_var == 'A' :\n",
    "            snp_var_comp = 'T'\n",
    "        elif snp_var == 'C' :\n",
    "            snp_var_comp = 'G'\n",
    "        elif snp_var == 'G' :\n",
    "            snp_var_comp = 'C'\n",
    "        elif snp_var == 'T' :\n",
    "            snp_var_comp = 'A'\n",
    "        \n",
    "        relpos = site_end - snp_start\n",
    "        if relpos < 0 :\n",
    "            print('WARNING (-)! Relpos out of range (' + str(relpos) + ')')\n",
    "            continue\n",
    "        if site_refseq[relpos] != snp_ref_comp :\n",
    "            print('WARNING (-)! Ref base differs.')\n",
    "            print(relpos)\n",
    "            print(site_refseq[relpos-5:relpos+5])\n",
    "            print(site_refseq[relpos])\n",
    "            print(snp_ref_comp)\n",
    "        site_varseq = site_varseq[:relpos] + snp_var_comp + site_varseq[relpos+1:]\n",
    "        \n",
    "    \n",
    "    if site_refseq == site_varseq :\n",
    "        print('WARNING! Ref seq == Var seq.')\n",
    "        continue\n",
    "    \n",
    "    l_gene.append(site_id)\n",
    "    l_varpos.append(relpos)\n",
    "    l_refseq.append(site_refseq)\n",
    "    l_varseq.append(site_varseq)\n",
    "    l_region.append(apadb_dict[site_id]['feature'])\n",
    "    l_significance.append(clinvar_dict[row['snp_key']]['significance'])\n",
    "    l_vartype.append(clinvar_dict[row['snp_key']]['vartype'])\n",
    "        \n",
    "    l_reads.append(apadb_dict[site_id]['reads'])\n",
    "    l_totalreads.append(apadb_dict[site_id]['total_reads'])\n",
    "    l_reluse.append(apadb_dict[site_id]['rel_use'])\n",
    "    \n",
    "    l_numsites.append(site_num)\n",
    "    l_upsitedist.append(site_up_dist)\n",
    "    l_dnsitedist.append(site_dn_dist)\n",
    "        \n",
    "        \n",
    "snp_df = pd.DataFrame({'gene' : l_gene,\n",
    "                    'var_pos' : l_varpos,\n",
    "                    'ref_seq' : l_refseq,\n",
    "                    'var_seq' : l_varseq,\n",
    "                    'region' : l_region,\n",
    "                    'significance' : l_significance,\n",
    "                    'vartype' : l_vartype,\n",
    "                    'num_sites' : l_numsites,\n",
    "                    'up_site_dist' : l_upsitedist,\n",
    "                    'dn_site_dist' : l_dnsitedist,\n",
    "                    'reads' : l_reads,\n",
    "                    'total_reads' : l_totalreads,\n",
    "                    'rel_use' : l_reluse\n",
    "                })\n",
    "\n",
    "snp_df = snp_df[['gene', 'var_pos', 'ref_seq', 'var_seq', 'region', 'significance', 'vartype', 'num_sites', 'up_site_dist', 'dn_site_dist', 'reads', 'total_reads', 'rel_use']]\n",
    "snp_df = snp_df.sort_values(by='gene')\n",
    "\n",
    "print(snp_df.head())\n",
    "print(len(snp_df))\n",
    "\n",
    "snp_df.to_csv('apadb_snps.csv', header=True, index=False, sep='\\t')\n"
   ]
  },
  {
   "cell_type": "code",
   "execution_count": 46,
   "metadata": {
    "collapsed": false
   },
   "outputs": [
    {
     "name": "stdout",
     "output_type": "stream",
     "text": [
      "APA undetermined\n",
      "1442\n",
      "APA determined\n",
      "277\n",
      "APA pathogenic\n",
      "18\n",
      "APA benign\n",
      "259\n"
     ]
    }
   ],
   "source": [
    "\n",
    "\n",
    "print('APA undetermined')\n",
    "print(len(snp_df[(snp_df.significance == 'Uncertain significance')]))\n",
    "\n",
    "print('APA determined')\n",
    "print(len(snp_df[\n",
    "            (snp_df.significance == 'Pathogenic') |\n",
    "            (snp_df.significance == 'Benign')\n",
    "        ]))\n",
    "\n",
    "print('APA pathogenic')\n",
    "print(len(snp_df[\n",
    "            (snp_df.significance == 'Pathogenic')\n",
    "        ]))\n",
    "\n",
    "print('APA benign')\n",
    "print(len(snp_df[\n",
    "            (snp_df.significance == 'Benign') \n",
    "        ]))\n",
    "\n"
   ]
  },
  {
   "cell_type": "code",
   "execution_count": null,
   "metadata": {
    "collapsed": true
   },
   "outputs": [],
   "source": []
  }
 ],
 "metadata": {
  "kernelspec": {
   "display_name": "Python 3",
   "language": "python",
   "name": "python3"
  },
  "language_info": {
   "codemirror_mode": {
    "name": "ipython",
    "version": 3
   },
   "file_extension": ".py",
   "mimetype": "text/x-python",
   "name": "python",
   "nbconvert_exporter": "python",
   "pygments_lexer": "ipython3",
   "version": "3.4.3"
  }
 },
 "nbformat": 4,
 "nbformat_minor": 1
}
